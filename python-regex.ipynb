{
 "cells": [
  {
   "cell_type": "code",
   "execution_count": 1,
   "id": "486a4b28",
   "metadata": {},
   "outputs": [],
   "source": [
    "import re"
   ]
  },
  {
   "cell_type": "code",
   "execution_count": 2,
   "id": "46091982",
   "metadata": {},
   "outputs": [],
   "source": [
    "#p=re.compile(r'(\\d\\d\\d)-(\\d\\d\\d-\\d\\d\\d\\d)')\n",
    "p=re.compile(r'[\\w]')\n",
    "##Complile methods used to make patterns into a variable and can be reused "
   ]
  },
  {
   "cell_type": "code",
   "execution_count": 3,
   "id": "428ab6a7",
   "metadata": {},
   "outputs": [],
   "source": [
    "text=r\"aap affafa aggaga sggssg  dgdgd dggbdd 123-330-44445 nbdbdb dgsgsg Ffhshshs124-446-5556 hzhhshss ss sbbs s bsbs \""
   ]
  },
  {
   "cell_type": "markdown",
   "id": "e4fdb816",
   "metadata": {},
   "source": [
    ".\t\t-Any Character Except New Line\n",
    "\\d\t\t-Digit(0,9)\n",
    "\\D\t\t-Not a Digit (0,9)\n",
    "\\w\t\t-Word Character (a-z , A-Z, 0-9, _)\n",
    "\\W\t\t-Not a Word Character\n",
    "\\s\t\t-Whitespace (space,tab,newline)\n",
    "\\S\t\t-Not Whitespace (space, tab, newline)\n",
    "\n",
    "\\b\t\t-Word Boundary\n",
    "\\B\t\t-Not a Word Boundary\n",
    "^\t\t-Begining of a String\n",
    "$\t\t-End of a String\n",
    "\n",
    "[]\t\t-Matches Characters in brackets\n",
    "[^ ]\t-Matches Characters NOT in brackets\n",
    "|\t\t-Either Or\n",
    "()\t\t-Group\n",
    "\n",
    "Quantifiers:\n",
    "*\t\t-0 or More\n",
    "+\t\t-1 or More\n",
    "?\t\t- 0 or One\n",
    "{3}\t\t- Exact Number\n",
    "{3,4}\t- Range of Numbers (Minimum, Maximum)\n",
    "\n"
   ]
  },
  {
   "cell_type": "markdown",
   "id": "4b4aff94",
   "metadata": {},
   "source": [
    "match - Finds the pattern at the begining of the string and matches the first one\n",
    "search - Finds the pattern in the whole string and matches only the first instance only\n",
    "findall- case(i)list of strings case(ii)if the pattern contains group then list of tuples "
   ]
  },
  {
   "cell_type": "code",
   "execution_count": 4,
   "id": "d5a85e08",
   "metadata": {},
   "outputs": [],
   "source": [
    "pattern=re.compile(r'')"
   ]
  },
  {
   "cell_type": "code",
   "execution_count": 5,
   "id": "566fc5e8",
   "metadata": {},
   "outputs": [],
   "source": [
    "matches=pattern.finditer(text)"
   ]
  },
  {
   "cell_type": "code",
   "execution_count": 6,
   "id": "cd8e8315",
   "metadata": {},
   "outputs": [
    {
     "ename": "NameError",
     "evalue": "name 's' is not defined",
     "output_type": "error",
     "traceback": [
      "\u001b[1;31m---------------------------------------------------------------------------\u001b[0m",
      "\u001b[1;31mNameError\u001b[0m                                 Traceback (most recent call last)",
      "\u001b[1;32m~\\AppData\\Local\\Temp/ipykernel_8576/1139179544.py\u001b[0m in \u001b[0;36m<module>\u001b[1;34m\u001b[0m\n\u001b[1;32m----> 1\u001b[1;33m \u001b[1;32mfor\u001b[0m \u001b[0mi\u001b[0m \u001b[1;32min\u001b[0m \u001b[0ms\u001b[0m\u001b[1;33m:\u001b[0m\u001b[1;33m\u001b[0m\u001b[1;33m\u001b[0m\u001b[0m\n\u001b[0m\u001b[0;32m      2\u001b[0m     \u001b[0mprint\u001b[0m\u001b[1;33m(\u001b[0m\u001b[0mi\u001b[0m\u001b[1;33m.\u001b[0m\u001b[0mgroup\u001b[0m\u001b[1;33m(\u001b[0m\u001b[1;36m0\u001b[0m\u001b[1;33m)\u001b[0m\u001b[1;33m)\u001b[0m\u001b[1;33m\u001b[0m\u001b[1;33m\u001b[0m\u001b[0m\n",
      "\u001b[1;31mNameError\u001b[0m: name 's' is not defined"
     ]
    }
   ],
   "source": []
  },
  {
   "cell_type": "code",
   "execution_count": 63,
   "id": "8e3ab4e1",
   "metadata": {},
   "outputs": [
    {
     "data": {
      "text/plain": [
       "'X drummers, X pipers, five rings, X hen'"
      ]
     },
     "execution_count": 63,
     "metadata": {},
     "output_type": "execute_result"
    }
   ],
   "source": [
    "numRegex = re.compile(r'\\d+',re.VERBOSE)\n",
    "numRegex.sub('X', '11 drummers, 10 pipers, five rings, 4 hen') "
   ]
  },
  {
   "cell_type": "code",
   "execution_count": 20,
   "id": "f275b4c9",
   "metadata": {},
   "outputs": [],
   "source": [
    "numcomma=re.compile(r'(^\\d+(,\\d{3})*$)')"
   ]
  },
  {
   "cell_type": "code",
   "execution_count": 35,
   "id": "a756a814",
   "metadata": {},
   "outputs": [],
   "source": [
    "d=numcomma.finditer('12,34,567')"
   ]
  },
  {
   "cell_type": "code",
   "execution_count": 36,
   "id": "e8b4fb29",
   "metadata": {},
   "outputs": [],
   "source": [
    "for i in d:\n",
    "    print(i.group())"
   ]
  },
  {
   "cell_type": "code",
   "execution_count": 38,
   "id": "86b0cced",
   "metadata": {},
   "outputs": [
    {
     "name": "stdout",
     "output_type": "stream",
     "text": [
      "Alice Watanabe\n"
     ]
    }
   ],
   "source": [
    "nameending=re.compile(r'^[A-Z][A-Za-z]+\\s{1}(Watanabe)$')\n",
    "matches=nameending.finditer('Alice Watanabe')\n",
    "for i in matches:\n",
    "    print(i.group())"
   ]
  },
  {
   "cell_type": "code",
   "execution_count": 49,
   "id": "d2d3a916",
   "metadata": {},
   "outputs": [],
   "source": [
    "nameending=re.compile(r'(Alice|Bob|Carol){1}\\s{1}(eats|pets|throws){1}\\s{1}(apples|cats|baseballs)\\.$',re.IGNORECASE)\n",
    "matches=nameending.finditer('Carol eats 7 cats.')\n",
    "for i in matches:\n",
    "    print(i.group())"
   ]
  },
  {
   "cell_type": "code",
   "execution_count": 55,
   "id": "88c1f8de",
   "metadata": {},
   "outputs": [
    {
     "name": "stdout",
     "output_type": "stream",
     "text": [
      "655-8557\n"
     ]
    }
   ],
   "source": [
    "nameending=re.compile(r'(\\d\\d\\d)-(\\d\\d\\d-\\d\\d\\d\\d)')\n",
    "matches=nameending.finditer('895-655-8557')\n",
    "for i in matches:\n",
    "    print(i.group(2))"
   ]
  },
  {
   "cell_type": "code",
   "execution_count": 60,
   "id": "29c495d6",
   "metadata": {},
   "outputs": [
    {
     "name": "stdout",
     "output_type": "stream",
     "text": [
      "(895-655-8557\n",
      "(895\n",
      "655-8557\n"
     ]
    }
   ],
   "source": [
    "pattern=re.compile(r'(\\(\\d\\d\\d)-(\\d\\d\\d-\\d\\d\\d\\d)')\n",
    "matches=pattern.search('(895-655-8557')\n",
    "print(matches.group(0))\n",
    "print(matches.group(1))\n",
    "print(matches.group(2))"
   ]
  },
  {
   "cell_type": "code",
   "execution_count": 69,
   "id": "9fe92e09",
   "metadata": {},
   "outputs": [
    {
     "data": {
      "text/plain": [
       "<re.Match object; span=(0, 58), match='This is some text -- with punctuation.\\nAnd a \\ts>"
      ]
     },
     "execution_count": 69,
     "metadata": {},
     "output_type": "execute_result"
    }
   ],
   "source": [
    "pattern=re.compile(r'.+',re.DOTALL)\n",
    "pattern.search('This is some text -- with punctuation.\\nAnd a \\tsecond line.')"
   ]
  },
  {
   "cell_type": "code",
   "execution_count": 73,
   "id": "5b1dc56d",
   "metadata": {},
   "outputs": [
    {
     "data": {
      "text/plain": [
       "<re.Match object; span=(0, 1), match='\\n'>"
      ]
     },
     "execution_count": 73,
     "metadata": {},
     "output_type": "execute_result"
    }
   ],
   "source": [
    "pattern=re.compile(r'.',re.DOTALL)\n",
    "pattern.search('\\n')"
   ]
  },
  {
   "cell_type": "code",
   "execution_count": 74,
   "id": "52bd7b8e",
   "metadata": {},
   "outputs": [],
   "source": [
    "pattern=re.compile(r'.')\n",
    "pattern.search('\\n')\n",
    "#Doesnt match if argument is not passed"
   ]
  },
  {
   "cell_type": "code",
   "execution_count": 76,
   "id": "c2d86161",
   "metadata": {},
   "outputs": [
    {
     "data": {
      "text/plain": [
       "<re.Match object; span=(0, 4), match='5555'>"
      ]
     },
     "execution_count": 76,
     "metadata": {},
     "output_type": "execute_result"
    }
   ],
   "source": [
    "pattern=re.compile(r'.*')\n",
    "pattern.search('5555')\n",
    "#Doesnt match if argument"
   ]
  },
  {
   "cell_type": "code",
   "execution_count": 85,
   "id": "f1158b08",
   "metadata": {},
   "outputs": [
    {
     "data": {
      "text/plain": [
       "''"
      ]
     },
     "execution_count": 85,
     "metadata": {},
     "output_type": "execute_result"
    }
   ],
   "source": [
    "pattern=re.compile(r'.*?')\n",
    "pattern.search('l66').group()"
   ]
  },
  {
   "cell_type": "code",
   "execution_count": null,
   "id": "6291a5c7",
   "metadata": {},
   "outputs": [],
   "source": []
  },
  {
   "cell_type": "code",
   "execution_count": null,
   "id": "4ece703c",
   "metadata": {},
   "outputs": [],
   "source": []
  },
  {
   "cell_type": "code",
   "execution_count": 129,
   "id": "9d12aaed",
   "metadata": {},
   "outputs": [],
   "source": []
  },
  {
   "cell_type": "code",
   "execution_count": null,
   "id": "5018724f",
   "metadata": {},
   "outputs": [],
   "source": []
  },
  {
   "cell_type": "code",
   "execution_count": null,
   "id": "3cf43544",
   "metadata": {},
   "outputs": [],
   "source": []
  }
 ],
 "metadata": {
  "kernelspec": {
   "display_name": "Python 3 (ipykernel)",
   "language": "python",
   "name": "python3"
  },
  "language_info": {
   "codemirror_mode": {
    "name": "ipython",
    "version": 3
   },
   "file_extension": ".py",
   "mimetype": "text/x-python",
   "name": "python",
   "nbconvert_exporter": "python",
   "pygments_lexer": "ipython3",
   "version": "3.7.6"
  }
 },
 "nbformat": 4,
 "nbformat_minor": 5
}
