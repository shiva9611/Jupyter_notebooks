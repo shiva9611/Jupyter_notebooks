{
 "cells": [
  {
   "cell_type": "code",
   "execution_count": 2,
   "id": "abfde57b",
   "metadata": {},
   "outputs": [],
   "source": [
    "import imaplib\n",
    "import email\n",
    "from email.header import decode_header\n",
    "import getpass"
   ]
  },
  {
   "cell_type": "code",
   "execution_count": 5,
   "id": "1aa2e75e",
   "metadata": {},
   "outputs": [
    {
     "name": "stdout",
     "output_type": "stream",
     "text": [
      "Enter pass········\n"
     ]
    },
    {
     "data": {
      "text/plain": [
       "'shivaraj.1rn14me131@gmail.com'"
      ]
     },
     "execution_count": 5,
     "metadata": {},
     "output_type": "execute_result"
    }
   ],
   "source": [
    "##Account Credentials\n",
    "username='shivaraj.1rn14me131@gmail.com'\n",
    "password=getpass.getpass(\"Enter pass\")\n"
   ]
  },
  {
   "cell_type": "code",
   "execution_count": 34,
   "id": "81894e6f",
   "metadata": {},
   "outputs": [
    {
     "data": {
      "text/plain": [
       "('OK', [b'shivaraj.1rn14me131@gmail.com authenticated (Success)'])"
      ]
     },
     "execution_count": 34,
     "metadata": {},
     "output_type": "execute_result"
    }
   ],
   "source": [
    "imap=imaplib.IMAP4_SSL('imap.gmail.com')\n",
    "imap.login(username,password)"
   ]
  },
  {
   "cell_type": "code",
   "execution_count": 35,
   "id": "44aed044",
   "metadata": {},
   "outputs": [
    {
     "data": {
      "text/plain": [
       "('OK',\n",
       " [b'(\\\\HasNoChildren) \"/\" \"INBOX\"',\n",
       "  b'(\\\\HasChildren \\\\Noselect) \"/\" \"[Gmail]\"',\n",
       "  b'(\\\\All \\\\HasNoChildren) \"/\" \"[Gmail]/All Mail\"',\n",
       "  b'(\\\\Drafts \\\\HasNoChildren) \"/\" \"[Gmail]/Drafts\"',\n",
       "  b'(\\\\HasNoChildren \\\\Important) \"/\" \"[Gmail]/Important\"',\n",
       "  b'(\\\\HasNoChildren \\\\Sent) \"/\" \"[Gmail]/Sent Mail\"',\n",
       "  b'(\\\\HasNoChildren \\\\Junk) \"/\" \"[Gmail]/Spam\"',\n",
       "  b'(\\\\Flagged \\\\HasNoChildren) \"/\" \"[Gmail]/Starred\"',\n",
       "  b'(\\\\HasNoChildren \\\\Trash) \"/\" \"[Gmail]/Trash\"'])"
      ]
     },
     "execution_count": 35,
     "metadata": {},
     "output_type": "execute_result"
    }
   ],
   "source": [
    "imap.list()"
   ]
  },
  {
   "cell_type": "code",
   "execution_count": 36,
   "id": "0b96395c",
   "metadata": {},
   "outputs": [
    {
     "data": {
      "text/plain": [
       "('OK', [b'2427'])"
      ]
     },
     "execution_count": 36,
     "metadata": {},
     "output_type": "execute_result"
    }
   ],
   "source": [
    "imap.select('Inbox')"
   ]
  },
  {
   "cell_type": "code",
   "execution_count": 80,
   "id": "1c53f499",
   "metadata": {},
   "outputs": [],
   "source": [
    "status,message=imap.search(None,'FROM \"rnsitplacement@gmail.com\"' and 'ON \"23-Nov-2020\"')"
   ]
  },
  {
   "cell_type": "code",
   "execution_count": 81,
   "id": "53d16c0d",
   "metadata": {},
   "outputs": [
    {
     "data": {
      "text/plain": [
       "'OK'"
      ]
     },
     "execution_count": 81,
     "metadata": {},
     "output_type": "execute_result"
    }
   ],
   "source": [
    "status"
   ]
  },
  {
   "cell_type": "code",
   "execution_count": 82,
   "id": "3d69606f",
   "metadata": {},
   "outputs": [],
   "source": [
    "emails=message[0].split(b' ')"
   ]
  },
  {
   "cell_type": "code",
   "execution_count": 83,
   "id": "0593ffdd",
   "metadata": {},
   "outputs": [],
   "source": [
    "#lets take a mail for an exaple\n",
    "_,msg=imap.fetch(emails[0],'(RFC822)')"
   ]
  },
  {
   "cell_type": "code",
   "execution_count": 84,
   "id": "2d0da494",
   "metadata": {},
   "outputs": [],
   "source": [
    "msg_decod=msg[0][1].decode('utf-8')\n",
    "msg1=email.message_from_string(msg_decod)"
   ]
  },
  {
   "cell_type": "code",
   "execution_count": 85,
   "id": "a5f4906f",
   "metadata": {},
   "outputs": [
    {
     "data": {
      "text/plain": [
       "'* HCL Technologies is hiring freshers - 2017/2018/2019/2020 Batch Graduates'"
      ]
     },
     "execution_count": 85,
     "metadata": {},
     "output_type": "execute_result"
    }
   ],
   "source": [
    "msg1['Subject']"
   ]
  },
  {
   "cell_type": "code",
   "execution_count": 86,
   "id": "6e2f6ac6",
   "metadata": {},
   "outputs": [
    {
     "data": {
      "text/plain": [
       "'RNSIT Placement Cell <rnsitplacement@gmail.com>'"
      ]
     },
     "execution_count": 86,
     "metadata": {},
     "output_type": "execute_result"
    }
   ],
   "source": [
    "msg1['From']"
   ]
  },
  {
   "cell_type": "code",
   "execution_count": 87,
   "id": "cbb02b1f",
   "metadata": {},
   "outputs": [
    {
     "data": {
      "text/plain": [
       "('OK', [b'2332 (FLAGS (\\\\Seen \\\\Deleted))'])"
      ]
     },
     "execution_count": 87,
     "metadata": {},
     "output_type": "execute_result"
    }
   ],
   "source": [
    "imap.store(emails[0],'+FLAGS','\\\\Deleted')"
   ]
  },
  {
   "cell_type": "code",
   "execution_count": 106,
   "id": "7042d246",
   "metadata": {},
   "outputs": [
    {
     "data": {
      "text/plain": [
       "50"
      ]
     },
     "execution_count": 106,
     "metadata": {},
     "output_type": "execute_result"
    }
   ],
   "source": [
    "len(msg1.values())"
   ]
  },
  {
   "cell_type": "code",
   "execution_count": null,
   "id": "2ea15bc5",
   "metadata": {},
   "outputs": [],
   "source": []
  },
  {
   "cell_type": "code",
   "execution_count": null,
   "id": "6a225b39",
   "metadata": {},
   "outputs": [],
   "source": [
    "\n",
    "for part in msg1.walk():\n",
    "    print(part.get_content_type())\n",
    "    if part.get_content_type()=='text/plain':\n",
    "        body=part.get_payload(decode=True)\n",
    "        print(body.decode('utf-8'))"
   ]
  },
  {
   "cell_type": "code",
   "execution_count": null,
   "id": "9f6d1890",
   "metadata": {},
   "outputs": [],
   "source": [
    "imap.expunge()\n",
    "imap.close()\n",
    "imap.logout()"
   ]
  },
  {
   "cell_type": "code",
   "execution_count": null,
   "id": "9f47b0a9",
   "metadata": {},
   "outputs": [],
   "source": []
  },
  {
   "cell_type": "code",
   "execution_count": null,
   "id": "53d2a4fe",
   "metadata": {},
   "outputs": [],
   "source": []
  }
 ],
 "metadata": {
  "kernelspec": {
   "display_name": "Python 3 (ipykernel)",
   "language": "python",
   "name": "python3"
  },
  "language_info": {
   "codemirror_mode": {
    "name": "ipython",
    "version": 3
   },
   "file_extension": ".py",
   "mimetype": "text/x-python",
   "name": "python",
   "nbconvert_exporter": "python",
   "pygments_lexer": "ipython3",
   "version": "3.7.6"
  }
 },
 "nbformat": 4,
 "nbformat_minor": 5
}
