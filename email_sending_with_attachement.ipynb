{
 "cells": [
  {
   "cell_type": "code",
   "execution_count": 9,
   "id": "4cdec3ae",
   "metadata": {},
   "outputs": [
    {
     "name": "stdout",
     "output_type": "stream",
     "text": [
      "Enter ur passord········\n"
     ]
    }
   ],
   "source": [
    "import smtplib\n",
    "from email.message import EmailMessage\n",
    "import getpass\n",
    "\n",
    "EMAIL_ADDRESS = 'shivaraj.1rn14me131@gmail.com'\n",
    "EMAIL_PASSWORD = getpass.getpass('Enter ur passord')"
   ]
  },
  {
   "cell_type": "code",
   "execution_count": 10,
   "id": "08f5cc48",
   "metadata": {},
   "outputs": [],
   "source": [
    "#This is used only for the multiple users and we can change it to singe recipients\n",
    "\n",
    "msg = EmailMessage()\n",
    "msg['Subject'] = 'This is my email for multiple people'\n",
    "msg['From'] = EMAIL_ADDRESS \n",
    "msg['To'] = ['shivarajshetty9999@gmail.com', 'shivaraj.1rn14me131@gmail.com']\n",
    "msg.set_content('It works!')\n",
    "\n",
    "\n",
    "with smtplib.SMTP_SSL('smtp.gmail.com', 465) as smtp:\n",
    "    smtp.login(EMAIL_ADDRESS, EMAIL_PASSWORD) \n",
    "    smtp.send_message(msg)"
   ]
  },
  {
   "cell_type": "code",
   "execution_count": 7,
   "id": "e96e9061",
   "metadata": {},
   "outputs": [],
   "source": [
    "##This is used for attaching the pdf document\n",
    "\n",
    "# msg = EmailMessage()\n",
    "# msg['Subject'] = 'This is my email with PDF attachment'\n",
    "# msg['From'] = EMAIL_ADDRESS \n",
    "# msg['To'] = EMAIL_ADDRESS \n",
    "# msg.set_content('See below')\n",
    "\n",
    "\n",
    "# with open('ExampleDoc.pdf', 'rb') as pdf:\n",
    "#     msg.add_attachment(pdf.read(), maintype='application', subtype='octet-stream', filename=pdf.name)\n",
    "    \n",
    "# with smtplib.SMTP_SSL('smtp.gmail.com', 465) as smtp:\n",
    "#     smtp.login(EMAIL_ADDRESS, EMAIL_PASSWORD) \n",
    "#     smtp.send_message(msg)"
   ]
  },
  {
   "cell_type": "code",
   "execution_count": 8,
   "id": "722033c1",
   "metadata": {},
   "outputs": [],
   "source": [
    "##This is used for the sending  the html content\n",
    "# msg = EmailMessage()\n",
    "# msg['Subject'] = 'Here is my newsletter'\n",
    "# msg['From'] = EMAIL_ADDRESS \n",
    "# msg['To'] = EMAIL_ADDRESS\n",
    "# msg.set_content('''\n",
    "# <!DOCTYPE html>\n",
    "# <html>\n",
    "#     <body>\n",
    "#         <div style=\"background-color:#eee;padding:10px 20px;\">\n",
    "#             <h2 style=\"font-family:Georgia, 'Times New Roman', Times, serif;color#454349;\">My newsletter</h2>\n",
    "#         </div>\n",
    "#         <div style=\"padding:20px 0px\">\n",
    "#             <div style=\"height: 500px;width:400px\">\n",
    "#                 <img src=\"https://dummyimage.com/500x300/000/fff&text=Dummy+image\" style=\"height: 300px;\">\n",
    "#                 <div style=\"text-align:center;\">\n",
    "#                     <h3>Article 1</h3>\n",
    "#                     <p>Lorem ipsum dolor sit amet consectetur, adipisicing elit. A ducimus deleniti nemo quibusdam iste sint!</p>\n",
    "#                     <a href=\"#\">Read more</a>\n",
    "#                 </div>\n",
    "#             </div>\n",
    "#         </div>\n",
    "#     </body>\n",
    "# </html>\n",
    "# ''', subtype='html')\n",
    "\n",
    "\n",
    "# with smtplib.SMTP_SSL('smtp.gmail.com', 465) as smtp:\n",
    "#     smtp.login(EMAIL_ADDRESS, EMAIL_PASSWORD) \n",
    "#     smtp.send_message(msg)\n"
   ]
  },
  {
   "cell_type": "code",
   "execution_count": 12,
   "id": "5cc2587f",
   "metadata": {},
   "outputs": [],
   "source": [
    "# #This is used for attaching the image document\n",
    "# import imghdr\n",
    "# msg = EmailMessage()\n",
    "# msg['Subject'] = 'This is my email with image attachment'\n",
    "# msg['From'] = EMAIL_ADDRESS \n",
    "# msg['To'] = EMAIL_ADDRESS \n",
    "# msg.set_content('See below')\n",
    "\n",
    "\n",
    "# with open('example.jfif', 'rb') as img:\n",
    "#     msg.add_attachment(img.read(), maintype='image', subtype=imghdr.what(img.name), filename=img.name)\n",
    "    \n",
    "# with smtplib.SMTP_SSL('smtp.gmail.com', 465) as smtp:\n",
    "#     smtp.login(EMAIL_ADDRESS, EMAIL_PASSWORD) \n",
    "#     smtp.send_message(msg)"
   ]
  },
  {
   "cell_type": "code",
   "execution_count": 16,
   "id": "d8b6141d",
   "metadata": {},
   "outputs": [],
   "source": [
    "# #This is used for attaching the multiple  image document\n",
    "# import imghdr\n",
    "# msg = EmailMessage()\n",
    "# msg['Subject'] = 'This is my email with image attachment'\n",
    "# msg['From'] = EMAIL_ADDRESS \n",
    "# msg['To'] = EMAIL_ADDRESS \n",
    "# msg.set_content('See below')\n",
    "\n",
    "# for image in ['example.jfif','phto.jfif']:\n",
    "#     with open(image, 'rb') as img:\n",
    "#         msg.add_attachment(img.read(), maintype='image', subtype=imghdr.what(img.name), filename=img.name)\n",
    "    \n",
    "# with smtplib.SMTP_SSL('smtp.gmail.com', 465) as smtp:\n",
    "#     smtp.login(EMAIL_ADDRESS, EMAIL_PASSWORD) \n",
    "#     smtp.send_message(msg)"
   ]
  },
  {
   "cell_type": "code",
   "execution_count": null,
   "id": "7e512716",
   "metadata": {},
   "outputs": [],
   "source": []
  }
 ],
 "metadata": {
  "kernelspec": {
   "display_name": "Python 3 (ipykernel)",
   "language": "python",
   "name": "python3"
  },
  "language_info": {
   "codemirror_mode": {
    "name": "ipython",
    "version": 3
   },
   "file_extension": ".py",
   "mimetype": "text/x-python",
   "name": "python",
   "nbconvert_exporter": "python",
   "pygments_lexer": "ipython3",
   "version": "3.7.6"
  }
 },
 "nbformat": 4,
 "nbformat_minor": 5
}
