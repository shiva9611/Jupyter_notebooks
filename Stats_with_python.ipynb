{
 "cells": [
  {
   "cell_type": "markdown",
   "id": "d888beb1",
   "metadata": {},
   "source": [
    "Descriptive Statistics\n",
    "\n",
    "#Descriptive Statistics summaries a dataset, which helps in gaining insights, and making inferences about a dataset.\n",
    "\n",
    "#In general, we compute statistical measures of one or more samples, related to a population, and draw conclusions about the population.\n",
    "\n",
    "#Descriptive Statistics involves estimating centrality measures and measures of dispersion."
   ]
  },
  {
   "cell_type": "markdown",
   "id": "3ce42462",
   "metadata": {},
   "source": [
    "Measures of Dispersion\n",
    "\n",
    "\n",
    "Measures of Dispersion provide insights on the spread of given dataset.\n",
    "\n",
    "Major measures of dispersion are: range, percentile, inter-quartile range, standard deviation, variance, skewness, and kurtosis.\n",
    "\n",
    "Range\n",
    "\n",
    "Range is the difference between maximum and minimum values of the dataset.\n"
   ]
  },
  {
   "cell_type": "code",
   "execution_count": 1,
   "id": "864cec0a",
   "metadata": {},
   "outputs": [
    {
     "name": "stdout",
     "output_type": "stream",
     "text": [
      "46\n"
     ]
    }
   ],
   "source": [
    "import numpy as np\n",
    "\n",
    "s1 = np.array([86, 47, 45, 47, 40])\n",
    "\n",
    "print(np.ptp(s1))"
   ]
  },
  {
   "cell_type": "markdown",
   "id": "65a63cd2",
   "metadata": {},
   "source": [
    "Percentile\n",
    "\n",
    "Percentile\n",
    "\n",
    "Percentile refers to a value, below which lies given the percentage of data points.\n",
    "\n",
    "E.g., 45th percentile refers to a value below which 45% of data points are found.\n",
    "\n",
    "percentile function of numpy can be used to compute a single or multiple percentiles.\n",
    "\n",
    "Example"
   ]
  },
  {
   "cell_type": "code",
   "execution_count": 2,
   "id": "d28d8849",
   "metadata": {},
   "outputs": [
    {
     "name": "stdout",
     "output_type": "stream",
     "text": [
      "65\n"
     ]
    }
   ],
   "source": [
    "import numpy as np\n",
    "\n",
    "s2 = np.array([86, 47, 45, 47, 40, 97, 98, 75, 65, 83])\n",
    "\n",
    "print(np.percentile(s2, 45, interpolation='lower'))"
   ]
  },
  {
   "cell_type": "markdown",
   "id": "1ce74b6b",
   "metadata": {},
   "source": [
    "Quartiles\n",
    "Quartiles\n",
    "Three Quartiles namely, Q1 Q2 and Q3, split the entire dataset into four equal parts.\n",
    "\n",
    "Each part contains 25% of data.\n",
    "\n",
    "Example"
   ]
  },
  {
   "cell_type": "code",
   "execution_count": 3,
   "id": "85efacab",
   "metadata": {},
   "outputs": [
    {
     "name": "stdout",
     "output_type": "stream",
     "text": [
      "[47 65 83]\n"
     ]
    }
   ],
   "source": [
    "import numpy as np\n",
    "\n",
    "s2 = np.array([86, 47, 45, 47, 40, 97, 98, 75, 65, 83])\n",
    "\n",
    "print(np.percentile(s2, [25, 50, 75], interpolation='lower'))"
   ]
  },
  {
   "cell_type": "markdown",
   "id": "1962dbea",
   "metadata": {},
   "source": [
    "Inter Quartile Range (IQR)\n",
    "Inter Quartile Range (IQR)\n",
    "Inter quartile range refers to difference between third quartile (Q3) and first quartile (Q1).\n",
    "\n",
    "iqr method from scipy.stats can be used for calculating it.\n",
    "\n",
    "Example"
   ]
  },
  {
   "cell_type": "code",
   "execution_count": 4,
   "id": "cd794815",
   "metadata": {},
   "outputs": [
    {
     "name": "stdout",
     "output_type": "stream",
     "text": [
      "36\n"
     ]
    }
   ],
   "source": [
    "import numpy as np\n",
    "from scipy import stats\n",
    "\n",
    "s2 = np.array([86, 47, 45, 47, 40, 97, 98, 75, 65, 83])\n",
    "\n",
    "print(stats.iqr(s2, rng=(25, 75), interpolation='lower'))"
   ]
  },
  {
   "cell_type": "markdown",
   "id": "9a8a6f16",
   "metadata": {},
   "source": [
    "Variance and Standard Deviation\n",
    "Variance\n",
    "\n",
    "Variance is defined as the average of squared differences, of each data point from dataset's mean.\n",
    "Standard Deviation\n",
    "\n",
    "Standard Deviation is square root of variance.\n",
    "\n",
    "var and std functions of numpy can be used for computing variance and standard deviation respectively.\n",
    "\n",
    "By default, the functions assume that the dataset represents entire population.\n",
    "\n",
    "To represent a sample, derived from a population, ddof parameter is set to 1."
   ]
  },
  {
   "cell_type": "code",
   "execution_count": 5,
   "id": "300c41f6",
   "metadata": {},
   "outputs": [
    {
     "name": "stdout",
     "output_type": "stream",
     "text": [
      "454.21000000000004\n",
      "21.312203077110542\n",
      "504.6777777777778\n",
      "22.46503455990615\n"
     ]
    }
   ],
   "source": [
    "import numpy as np\n",
    "\n",
    "s2 = np.array([86, 47, 45, 47, 40, 97, 98, 75, 65, 83])\n",
    "\n",
    "\n",
    "print(np.var(s2))\n",
    "print(np.std(s2))\n",
    "\n",
    "# s2 representing a population's sample\n",
    "print(np.var(s2, ddof=1))\n",
    "print(np.std(s2, ddof=1))"
   ]
  },
  {
   "cell_type": "markdown",
   "id": "0b262656",
   "metadata": {},
   "source": [
    "Skewness\n",
    "Skewness\n",
    "\n",
    "skewness determines whether the majority of data points are present on one side of the distribution.\n",
    "\n",
    "A positive value represents right skewed distribution; a negative value represents left skewed one, zero represent unskewed distribution.\n",
    "\n",
    "Example"
   ]
  },
  {
   "cell_type": "code",
   "execution_count": 6,
   "id": "ebb5dffc",
   "metadata": {},
   "outputs": [
    {
     "name": "stdout",
     "output_type": "stream",
     "text": [
      "0.04321019390325423\n"
     ]
    }
   ],
   "source": [
    "import numpy as np\n",
    "from scipy import stats\n",
    "\n",
    "s2 = np.array([86, 47, 45, 47, 40, 97, 98, 75, 65, 83])\n",
    "\n",
    "print(stats.skew(s2))\n"
   ]
  },
  {
   "cell_type": "markdown",
   "id": "443e9c32",
   "metadata": {},
   "source": [
    "Kurtosis\n",
    "Kurtosis\n",
    "\n",
    "Kurtosis indicates how much of data is concentrated around mean or shape of the probability distribution.\n",
    "\n",
    "It can be estimated using kurtosis function of scipy.stats module.\n",
    "\n",
    "By default, it uses Fisher’s definition. This can be changed to Pearson by setting fisher parameter to False."
   ]
  },
  {
   "cell_type": "code",
   "execution_count": 7,
   "id": "08af8e87",
   "metadata": {},
   "outputs": [
    {
     "name": "stderr",
     "output_type": "stream",
     "text": [
      "\n",
      "Bad key \"text.kerning_factor\" on line 4 in\n",
      "C:\\Users\\user\\anaconda3\\lib\\site-packages\\matplotlib\\mpl-data\\stylelib\\_classic_test_patch.mplstyle.\n",
      "You probably need to get an updated matplotlibrc file from\n",
      "https://github.com/matplotlib/matplotlib/blob/v3.1.3/matplotlibrc.template\n",
      "or from the matplotlib source distribution\n"
     ]
    },
    {
     "name": "stdout",
     "output_type": "stream",
     "text": [
      "-1.5694354898634155\n"
     ]
    },
    {
     "data": {
      "text/plain": [
       "<matplotlib.axes._subplots.AxesSubplot at 0x153f8df15c8>"
      ]
     },
     "execution_count": 7,
     "metadata": {},
     "output_type": "execute_result"
    },
    {
     "data": {
      "image/png": "[encoded data removed]",
      "text/plain": [
       "<Figure size 432x288 with 1 Axes>"
      ]
     },
     "metadata": {
      "needs_background": "light"
     },
     "output_type": "display_data"
    }
   ],
   "source": [
    "import numpy as np\n",
    "from scipy import stats\n",
    "import seaborn as sns\n",
    "import matplotlib.pyplot as plt\n",
    "%matplotlib inline\n",
    "\n",
    "s2 = np.array([86, 47, 45, 47, 40, 97, 98, 75, 65, 83])\n",
    "\n",
    "print(stats.kurtosis(s2))\n",
    "sns.histplot(s2,kde=True)"
   ]
  },
  {
   "cell_type": "code",
   "execution_count": 8,
   "id": "2737c9bc",
   "metadata": {},
   "outputs": [
    {
     "data": {
      "text/plain": [
       "ModeResult(mode=array([88]), count=array([2]))"
      ]
     },
     "execution_count": 8,
     "metadata": {},
     "output_type": "execute_result"
    }
   ],
   "source": [
    "stats.mode([1,5,8,88,88])"
   ]
  },
  {
   "cell_type": "markdown",
   "id": "02ca90ad",
   "metadata": {},
   "source": [
    "<b>Numpy's Random Module</b>\n",
    "<br>\n",
    "\n",
    "random module of numpy has utilities, which generate arrays of random numbers.\n",
    "\n",
    "E.g.: rand function generates uniformly distributed numbers from range [0, 1)\n",
    "\n",
    "rand function with no arguments generate a single random value.\n",
    "\n",
    "By passing arguments, it generates a random array of specified size."
   ]
  },
  {
   "cell_type": "code",
   "execution_count": 9,
   "id": "4df8724e",
   "metadata": {},
   "outputs": [
    {
     "name": "stdout",
     "output_type": "stream",
     "text": [
      "0.09742754606346316\n",
      "[[0.27978021 0.5242439  0.25595153]\n",
      " [0.77383404 0.04795101 0.87073201]]\n"
     ]
    }
   ],
   "source": [
    "import numpy as np\n",
    "\n",
    "print(np.random.rand())\n",
    "\n",
    "# generates a 2*3 array\n",
    "print(np.random.rand(2,3))\n"
   ]
  },
  {
   "cell_type": "markdown",
   "id": "f267da8b",
   "metadata": {},
   "source": [
    "<b>Random Sampling</b>\n",
    "<br>\n",
    "In statistics, you select items randomly from a population, either with or without a replacement.\n",
    "\n",
    "This can be achieved with choice method as shown below."
   ]
  },
  {
   "cell_type": "code",
   "execution_count": 10,
   "id": "c017e288",
   "metadata": {},
   "outputs": [
    {
     "name": "stdout",
     "output_type": "stream",
     "text": [
      "[33 22]\n"
     ]
    }
   ],
   "source": [
    "import numpy as np\n",
    "\n",
    "print(np.random.choice([11, 22, 33], 2, replace=False))"
   ]
  },
  {
   "cell_type": "markdown",
   "id": "8d6c7739",
   "metadata": {},
   "source": [
    "<b>Random Seeding</b>\n",
    "<br>\n",
    "Seed is an important concept when it comes to reproducibility. If you are working with random numbers and you would want to peers to validate your results, i.e., they should also get the same random sequence as you did, you can set the seed to a particular value and send the seed value to your peers.\n",
    "\n",
    "seed is a number that sets the initial state of random number generator.\n",
    "\n",
    "Setting a seed, helps in generating the same sequence of random numbers, repeatedly.\n",
    "\n",
    "seed method of a random module can be used to set a seed as shown in below example"
   ]
  },
  {
   "cell_type": "code",
   "execution_count": 11,
   "id": "6484e8f5",
   "metadata": {},
   "outputs": [
    {
     "name": "stdout",
     "output_type": "stream",
     "text": [
      "0.5434049417909654\n",
      "0.5434049417909654\n"
     ]
    }
   ],
   "source": [
    "import numpy as np\n",
    "\n",
    "np.random.seed(100)\n",
    "print(np.random.rand())\n",
    "\n",
    "np.random.seed(100)\n",
    "print(np.random.rand())"
   ]
  },
  {
   "cell_type": "markdown",
   "id": "3d9ee122",
   "metadata": {},
   "source": [
    "<b>Random Variables</b>\n",
    "<br>\n",
    "\n",
    "In probability theory, the set of all possible outcomes of a random experiment is known as sample space.\n",
    "\n",
    "Probabilities of all outcomes of the experiment define the probability distribution.\n",
    "\n",
    "A random variable is a variable that takes real numbers or integers and map each value to one of the outcomes of sample space.\n",
    "\n",
    "E.g.: In an experiment of tossing a coin, the sample space is {'Head', 'Tail'} and a possible random variable takes the value 0 for head and 1 for the tail."
   ]
  },
  {
   "cell_type": "markdown",
   "id": "c58cc087",
   "metadata": {},
   "source": [
    "<b>Probability Distributions</b>\n",
    "<br>\n",
    "<br>\n",
    "There are two types of probability distributions namely discrete and continuous that take integer and real values, respectively.\n",
    "\n",
    "scipy.stats module provides classes that represent random variables, corresponding to a large number of probability distributions.\n",
    "\n",
    "E.g: the class norm represent normal continuous random variable, and binom represent binomial discrete random variable."
   ]
  },
  {
   "cell_type": "markdown",
   "id": "2723ceac",
   "metadata": {},
   "source": [
    "<b>Random Distributions</b>\n",
    "<br>\n",
    "<br>\n",
    "scipy.stats module provide a lot of methods for created discrete and continuous random variables.\n",
    "\n",
    "Commonly used methods are described below.\n",
    "\n",
    "pdf / pmf : Probability distribution function (continuous) or probability mass function (discrete).<br>\n",
    "cdf : Cumulative distribution function.</br>\n",
    "sf : Survival function (1 – cdf).</br>\n",
    "rvs : Creating random samples from a distribution.</br>"
   ]
  },
  {
   "cell_type": "markdown",
   "id": "4f42d3d8",
   "metadata": {},
   "source": [
    "<b>Random Distributions</b>\n",
    "</br>\n",
    "The following example defines a normal continuous random variable of mean 1.0 and std 2.5.\n",
    "\n",
    "It also estimates probabilities and cumulative probabilities at -1, 0 and 1.\n",
    "\n",
    "The example also generates six random numbers from defined normal distribution.\n",
    "\n",
    "Example"
   ]
  },
  {
   "cell_type": "code",
   "execution_count": 12,
   "id": "1a1de7f6",
   "metadata": {},
   "outputs": [
    {
     "name": "stdout",
     "output_type": "stream",
     "text": [
      "[0.11587662 0.14730806 0.15957691]\n",
      "[0.2118554  0.34457826 0.5       ]\n",
      "[[-0.40409689 -3.12269376  1.88668613]\n",
      " [-0.96516083  0.42031951  1.5199392 ]]\n"
     ]
    }
   ],
   "source": [
    "from scipy import stats\n",
    "\n",
    "x = stats.norm(loc=1.0, scale=2.5)\n",
    "\n",
    "print(x.pdf([-1, 0, 1]))\n",
    "\n",
    "print(x.cdf([-1, 0, 1]))\n",
    "\n",
    "print(x.rvs((2,3)))"
   ]
  },
  {
   "cell_type": "markdown",
   "id": "4133290f",
   "metadata": {},
   "source": [
    "<b>Hypothesis Testing</b>\n",
    "<br>\n",
    "<br>\n",
    "Hypothesis Testing is a methodology for evaluating if a claim is acceptable or not, based on data.\n",
    "\n",
    "In a Hypothesis Testing, a Null Hypothesis (Ho) represents currently accepted the state of knowledge, and an Alternative Hypothesis (Ha) represents a new claim which challenges the currently accepted state of knowledge.\n",
    "\n",
    "The null hypothesis and the alternative hypothesis are mutually exclusive."
   ]
  },
  {
   "cell_type": "markdown",
   "id": "5c9cbd45",
   "metadata": {},
   "source": [
    "<b>Steps Involved in Hypothesis Testing</b>\n",
    "\n",
    "\n",
    "The following steps are involved in a Hypothesis Testing:\n",
    "\n",
    "Define the null hypothesis and the alternative hypothesis.\n",
    "\n",
    "Select a test statistics whose probability distribution function can be found under the null hypothesis.\n",
    "\n",
    "Collect data.\n",
    "\n",
    "Compute the test statistics from the data and calculate its p-value under the null hypothesis.\n",
    "\n",
    "Null hypothesis is rejected if the p-value is lower than predetermined significance value."
   ]
  },
  {
   "cell_type": "markdown",
   "id": "2a3bb0b7",
   "metadata": {},
   "source": [
    "<b>Choosing Test Statistics</b>\n",
    "\n",
    "\n",
    "In hypothesis testing, selecting a test statistics is the most difficult part.\n",
    "\n",
    "The methods used for performing t-test are shown below.\n",
    "\n",
    "stats.ttest_1samp: Tests if the mean of a population is a given value.</br>\n",
    "stats.ttest_ind: Tests if the means of two independent samples are equal.</br>\n",
    "stats.ttest_rel: Tests if the means of two paired samples are equal.</br>"
   ]
  },
  {
   "cell_type": "markdown",
   "id": "ad8a5593",
   "metadata": {},
   "source": [
    "<b>Example 1</b>\n",
    "Consider a normal population with mean 0.8 and standard deviation 0.5.\n",
    "\n",
    "Define the null hypothesis as Mean of the population is 1.0.\n",
    "\n",
    "Let's calculate t-statistic and p-value"
   ]
  },
  {
   "cell_type": "code",
   "execution_count": 13,
   "id": "9b70eb20",
   "metadata": {},
   "outputs": [
    {
     "name": "stdout",
     "output_type": "stream",
     "text": [
      "-4.6096766186175335 1.2053870608536614e-05\n"
     ]
    }
   ],
   "source": [
    "from scipy import stats\n",
    "import numpy as np\n",
    "\n",
    "mu, sigma = 0.8, 0.5\n",
    "X = stats.norm(mu, sigma)\n",
    "\n",
    "# Deriving a sample\n",
    "n = 100\n",
    "X_sample = X.rvs(n)\n",
    "\n",
    "# Computing test statistic\n",
    "t, p = stats.ttest_1samp(X_sample, 1.0)\n",
    "print(t, p)"
   ]
  },
  {
   "cell_type": "markdown",
   "id": "4d5fafd5",
   "metadata": {},
   "source": [
    "<b>Example 1 Inference</b>\n",
    "In previous example, the obtained t-statistic value is -4.609 and p-value is 1.205*10-5.\n",
    "\n",
    "Since p-value is very low and less than the significance level 0.05, you can reject the null hypothesis and infer that the mean of the population is not 1."
   ]
  },
  {
   "cell_type": "markdown",
   "id": "10262c69",
   "metadata": {},
   "source": [
    "<b>Example 2</b>\n",
    "Let's consider another problem, where the null hypothesis states that the population means of two random variables are equal.\n",
    "\n",
    "The below example derives two samples from different populations and verifies the claim that their population means are equal."
   ]
  },
  {
   "cell_type": "code",
   "execution_count": 14,
   "id": "8acb8155",
   "metadata": {},
   "outputs": [
    {
     "name": "stdout",
     "output_type": "stream",
     "text": [
      "-1.734695496476908 0.08435093505384637\n"
     ]
    }
   ],
   "source": [
    "X1 = stats.norm(0.25, 1.0)\n",
    "X2 = stats.norm(0.50, 1.0)\n",
    "\n",
    "X1_sample = X1.rvs(100)\n",
    "X2_sample = X2.rvs(100)\n",
    "\n",
    "t, p = stats.ttest_ind(X1_sample, X2_sample)\n",
    "print(t, p)"
   ]
  },
  {
   "cell_type": "markdown",
   "id": "791f1171",
   "metadata": {},
   "source": [
    "<b>Example 2 Inference</b>\n",
    "In previous example, the obtained t-statistic value is -3.126 and p-value is 0.002.\n",
    "\n",
    "Since p-value is very low and less than the significance level 0.05, you can reject the null hypothesis and state that population means of both samples differ."
   ]
  },
  {
   "cell_type": "markdown",
   "id": "8045788f",
   "metadata": {},
   "source": [
    "<b>Statistical Model</b></br>\n",
    "A Statistical Model is a mathematical equation, which explains the relationship between dependent variables (Y) and independent variables (X).\n",
    "\n",
    "In general, a model is written as\n",
    "\n",
    "Y = f(X)</br>\n",
    "However, in reality, an element of uncertainty is expected due to factors such as measurement noise. Hence the aforementioned equation can be rewritten as\n",
    "Y = f(X) + e   'e' is residual error"
   ]
  },
  {
   "cell_type": "markdown",
   "id": "647db9c6",
   "metadata": {},
   "source": [
    "<b>Statistical Modelling</b></br>\n",
    "Statistical Modelling deals with creating models that attempt to explain the data best.\n",
    "\n",
    "The simplest model is a linear model represented as Y = B0 + B1*X + e, where the coefficients, B0 and B1 are the parameters of the model and e is normally distributed residual error.\n",
    "\n",
    "A linear regression model assumes that residuals are independent and normally distributed.\n",
    "\n",
    "The model is fitted to data using ordinary least squares approach."
   ]
  },
  {
   "cell_type": "markdown",
   "id": "5a3357e2",
   "metadata": {},
   "source": [
    "<b>Linear Models</b>\n",
    "\n",
    "In most of the linear regression models, a dependent variable y is written as :</br>\n",
    "a linear combination of the response variables X i.e y = B0 + B1*X1 + ... + Bn*Xn, or</br>\n",
    "functions of the response variables i.e y = B0 + B1*X + B2*x^2 + ... + Bn*X^n, or</br>\n",
    "models that have a linear component i.e y = B0 + B1*sin(X1) + B2*cos(X2)</br>"
   ]
  },
  {
   "cell_type": "markdown",
   "id": "8b34b70f",
   "metadata": {},
   "source": [
    "<b>Non-Linear Models</b><br>\n",
    "Other than linear regression models, statistical modeling can be used to build non-linear models.\n",
    "\n",
    "Errors of dependent variable follow a distribution other than normal distribution.\n",
    "\n",
    "Examples of non-linear models are: Binomial Regression and Poisson Regression.\n",
    "\n",
    "In most of the cases, the non-linear models are generalized to linear models."
   ]
  },
  {
   "cell_type": "markdown",
   "id": "fe42c02e",
   "metadata": {},
   "source": [
    "<b>Design Matrices</b></br>\n",
    "In reality, you choose a model and fit the available data to it.\n",
    "\n",
    "Once a model is chosen, design matrices y and X are constructed, and the regression problem is written, in matrix form, as y = XB + e.\n",
    "\n",
    "where y is the vector of dependent variables, X is the vector of independent variables, B is a vector of coefficients, and e is the residual (error).\n",
    "\n",
    "Thus obtained design matrices are passed as inputs to the chosen model."
   ]
  },
  {
   "cell_type": "markdown",
   "id": "80f198eb",
   "metadata": {},
   "source": [
    "<b>Statistical Modelling with StatsModels</b><br>\n",
    "statsmodels library supports several types of statistical models.\n",
    "\n",
    "All of them follow a similar usage pattern.\n",
    "\n",
    "A Statistical model is represented by a model class.\n",
    "\n",
    "A model can be initiated with,\n",
    "\n",
    "given design matrices of dependent and independent variables, or with<br>\n",
    "given patsy formula and data frame or dictionary-like object."
   ]
  },
  {
   "cell_type": "markdown",
   "id": "8f7b4ed4",
   "metadata": {},
   "source": [
    "Step 1: Creating a Model<br>\n",
    "An instance of a model class is created in either of the following ways.\n",
    "\n",
    "model = sm.MODEL(y, X) or<br>\n",
    "model = smf.model(patsy_formula, data)<br>\n",
    "where MODEL and model refer to model names such as OLS, GLM, ols, glm, etc.<br>\n",
    "\n",
    "Uppercase names take design matrices as arguments, and lowercase names take Patsy formulas and data frames as arguments."
   ]
  },
  {
   "cell_type": "markdown",
   "id": "349415e3",
   "metadata": {},
   "source": [
    "Step 2: Fitting a Model\n",
    "In order to fit the model with data, fit method is invoked on the created model, as shown below.\n",
    "\n",
    "result = model.fit()\n",
    "The fit method returns a result object, which has methods and attributes for further analysis."
   ]
  },
  {
   "cell_type": "markdown",
   "id": "d8c2d946",
   "metadata": {},
   "source": [
    "Step 3: Viewing Model Summary<br>\n",
    "The summary method of result object produces a summary text that describes the result of the fit, as shown below.\n",
    "\n",
    "print(result.summary())<br>\n",
    "The displayed summary text varies for each statistical model and provides information of various statistical parameters."
   ]
  },
  {
   "cell_type": "markdown",
   "id": "dcbf03b0",
   "metadata": {},
   "source": [
    "Constructing Design Matrices\n",
    "The below example shows calculation of design matrices, y, and X, for the considered linear model Y = B0 + B1*X1 + B2*X2 + B3*X1*X2.\n",
    "\n",
    "Example\n",
    "\n",
    "Thus obtained design matrices (y and X) can be passed to regression methods for obtaining the coefficient vector."
   ]
  },
  {
   "cell_type": "code",
   "execution_count": 15,
   "id": "76cc360f",
   "metadata": {},
   "outputs": [
    {
     "name": "stdout",
     "output_type": "stream",
     "text": [
      "[1 2 3 4 5]\n",
      "[[  1.   6.  11.  66.]\n",
      " [  1.   7.  12.  84.]\n",
      " [  1.   8.  13. 104.]\n",
      " [  1.   9.  14. 126.]\n",
      " [  1.  10.  15. 150.]]\n"
     ]
    }
   ],
   "source": [
    "import numpy as np\n",
    "\n",
    "y = np.array([1, 2, 3, 4, 5])\n",
    "x1 = np.array([6, 7, 8, 9, 10])\n",
    "x2 = np.array([11, 12, 13, 14, 15])\n",
    "X = np.vstack([np.ones(5), x1, x2, x1*x2]).T\n",
    "\n",
    "print(y)\n",
    "print(X)"
   ]
  },
  {
   "cell_type": "markdown",
   "id": "362628cb",
   "metadata": {},
   "source": [
    "<b>Design Matrices with patsy</b></br>\n",
    "patsy, a python library, allows defining a model in simpler easily.\n",
    "\n",
    "It also constructs relevant design matrices, automatically, using patsy.dmatrices function.\n",
    "\n",
    "patsy.dmatrices takes a formula (in string form) as a first argument, and a dictionary-like object with data arrays for the response variables as second arguments."
   ]
  },
  {
   "cell_type": "code",
   "execution_count": 16,
   "id": "bba7e950",
   "metadata": {},
   "outputs": [
    {
     "name": "stdout",
     "output_type": "stream",
     "text": [
      "[[1.]\n",
      " [2.]\n",
      " [3.]\n",
      " [4.]\n",
      " [5.]]\n",
      "[[  1.   6.  11.  66.]\n",
      " [  1.   7.  12.  84.]\n",
      " [  1.   8.  13. 104.]\n",
      " [  1.   9.  14. 126.]\n",
      " [  1.  10.  15. 150.]]\n"
     ]
    }
   ],
   "source": [
    "import patsy\n",
    "import numpy as np\n",
    "\n",
    "y = np.array([1, 2, 3, 4, 5])\n",
    "x1 = np.array([6, 7, 8, 9, 10])\n",
    "x2 = np.array([11, 12, 13, 14, 15])\n",
    "data = {'y':y, 'x1':x1, 'x2':x2}\n",
    "\n",
    "y, X = patsy.dmatrices('y ~ 1 + x1 + x2 + x1*x2', data)\n",
    "\n",
    "print(y)\n",
    "print(X)"
   ]
  },
  {
   "cell_type": "markdown",
   "id": "b149f6c6",
   "metadata": {},
   "source": [
    "<b>Understanding patsy Formulae</b><br>\n",
    "Let's understand few patsy formulae provided below.\n",
    "\n",
    "'y ~ x' : y is linearly dependent on x. ~ symbol separates dependent variable from independent variable terms. It is also equivalent to 'y ~ 1 + x'.\n",
    "\n",
    "'y ~ x1 + x2' : y is a linear combination of x1 and x2. + sign is used to denote the union of terms.\n",
    "\n",
    "y ~ x1*x2 : x1*x2 is an interaction term that includes all lower order terms. Hence formula is equivalent to y ~ 1 + x1 + x2 + x1*x2."
   ]
  },
  {
   "cell_type": "markdown",
   "id": "4e3617ff",
   "metadata": {},
   "source": [
    "<b>Understanding patsy Formulae</b><br>\n",
    "'y ~ np.log(x1)': Often numpy functions can be used to transform terms in the expression.\n",
    "\n",
    "'y ~ I(x1 + x2)': I is the identify function, used to escape arithmetic expressions and are evaluated.\n",
    "\n",
    "'y ~ C(x1)': Treats the variable x1 as a categorical variable."
   ]
  },
  {
   "cell_type": "code",
   "execution_count": 17,
   "id": "38f039dd",
   "metadata": {},
   "outputs": [
    {
     "name": "stdout",
     "output_type": "stream",
     "text": [
      "Index(['cons', 'income', 'price', 'temp'], dtype='object')\n"
     ]
    }
   ],
   "source": [
    "import statsmodels.api as sm\n",
    "\n",
    "icecream = sm.datasets.get_rdataset(\"Icecream\", \"Ecdat\")\n",
    "\n",
    "icecream_data = icecream.data\n",
    "\n",
    "print(icecream_data.columns)"
   ]
  },
  {
   "cell_type": "code",
   "execution_count": 18,
   "id": "d572511a",
   "metadata": {},
   "outputs": [],
   "source": [
    "import statsmodels.formula.api as smf\n",
    "\n",
    "linear_model1 = smf.ols('cons ~ price + temp', icecream_data)\n",
    "\n",
    "#Fitting the model with the data\n",
    "linear_result1 = linear_model1.fit()"
   ]
  },
  {
   "cell_type": "code",
   "execution_count": 19,
   "id": "bfb22778",
   "metadata": {},
   "outputs": [
    {
     "name": "stdout",
     "output_type": "stream",
     "text": [
      "                            OLS Regression Results                            \n",
      "==============================================================================\n",
      "Dep. Variable:                   cons   R-squared:                       0.633\n",
      "Model:                            OLS   Adj. R-squared:                  0.606\n",
      "Method:                 Least Squares   F-statistic:                     23.27\n",
      "Date:                Mon, 31 Jan 2022   Prob (F-statistic):           1.34e-06\n",
      "Time:                        14:00:03   Log-Likelihood:                 54.607\n",
      "No. Observations:                  30   AIC:                            -103.2\n",
      "Df Residuals:                      27   BIC:                            -99.01\n",
      "Df Model:                           2                                         \n",
      "Covariance Type:            nonrobust                                         \n",
      "==============================================================================\n",
      "                 coef    std err          t      P>|t|      [0.025      0.975]\n",
      "------------------------------------------------------------------------------\n",
      "Intercept      0.5966      0.258      2.309      0.029       0.067       1.127\n",
      "price         -1.4018      0.925     -1.515      0.141      -3.300       0.496\n",
      "temp           0.0030      0.000      6.448      0.000       0.002       0.004\n",
      "==============================================================================\n",
      "Omnibus:                        0.991   Durbin-Watson:                   0.656\n",
      "Prob(Omnibus):                  0.609   Jarque-Bera (JB):                0.220\n",
      "Skew:                          -0.107   Prob(JB):                        0.896\n",
      "Kurtosis:                       3.361   Cond. No.                     6.58e+03\n",
      "==============================================================================\n",
      "\n",
      "Warnings:\n",
      "[1] Standard Errors assume that the covariance matrix of the errors is correctly specified.\n",
      "[2] The condition number is large, 6.58e+03. This might indicate that there are\n",
      "strong multicollinearity or other numerical problems.\n"
     ]
    }
   ],
   "source": [
    "print(linear_result1.summary())"
   ]
  },
  {
   "cell_type": "markdown",
   "id": "9f53eb11",
   "metadata": {},
   "source": [
    "<b>Analyzing the Model</b><br>\n",
    "The R-squared value of 0.633 suggests that model is not a proper fit.\n",
    "\n",
    "The probability value of coefficient price is high, i.e., 0.141. This accepts the null-hypothesis: the value of price coefficient is equal to zero.\n",
    "\n",
    "Hence, the variable price does not affect cons variable."
   ]
  },
  {
   "cell_type": "code",
   "execution_count": 20,
   "id": "9af073a4",
   "metadata": {},
   "outputs": [
    {
     "name": "stdout",
     "output_type": "stream",
     "text": [
      "                            OLS Regression Results                            \n",
      "==============================================================================\n",
      "Dep. Variable:                   cons   R-squared:                       0.702\n",
      "Model:                            OLS   Adj. R-squared:                  0.680\n",
      "Method:                 Least Squares   F-statistic:                     31.81\n",
      "Date:                Mon, 31 Jan 2022   Prob (F-statistic):           7.96e-08\n",
      "Time:                        14:00:03   Log-Likelihood:                 57.742\n",
      "No. Observations:                  30   AIC:                            -109.5\n",
      "Df Residuals:                      27   BIC:                            -105.3\n",
      "Df Model:                           2                                         \n",
      "Covariance Type:            nonrobust                                         \n",
      "==============================================================================\n",
      "                 coef    std err          t      P>|t|      [0.025      0.975]\n",
      "------------------------------------------------------------------------------\n",
      "Intercept     -0.1132      0.108     -1.045      0.305      -0.335       0.109\n",
      "income         0.0035      0.001      3.017      0.006       0.001       0.006\n",
      "temp           0.0035      0.000      7.963      0.000       0.003       0.004\n",
      "==============================================================================\n",
      "Omnibus:                        2.264   Durbin-Watson:                   1.003\n",
      "Prob(Omnibus):                  0.322   Jarque-Bera (JB):                1.094\n",
      "Skew:                           0.386   Prob(JB):                        0.579\n",
      "Kurtosis:                       3.528   Cond. No.                     1.56e+03\n",
      "==============================================================================\n",
      "\n",
      "Warnings:\n",
      "[1] Standard Errors assume that the covariance matrix of the errors is correctly specified.\n",
      "[2] The condition number is large, 1.56e+03. This might indicate that there are\n",
      "strong multicollinearity or other numerical problems.\n"
     ]
    }
   ],
   "source": [
    "linear_model2 = smf.ols('cons ~ income + temp', icecream_data)\n",
    "\n",
    "linear_result2 = linear_model2.fit()\n",
    "\n",
    "print(linear_result2.summary())"
   ]
  },
  {
   "cell_type": "markdown",
   "id": "22375c2e",
   "metadata": {},
   "source": [
    "<b>Analyzing Model</b><br>\n",
    "R-squared value improved to 0.702, suggesting this is a better model than previous one.\n",
    "\n",
    "Probability values of income and temp are low, indicating they are highly significant to cons.\n",
    "\n",
    "The probability value of Intercept is too high."
   ]
  },
  {
   "cell_type": "code",
   "execution_count": 21,
   "id": "3a9938f2",
   "metadata": {},
   "outputs": [
    {
     "name": "stdout",
     "output_type": "stream",
     "text": [
      "                                 OLS Regression Results                                \n",
      "=======================================================================================\n",
      "Dep. Variable:                   cons   R-squared (uncentered):                   0.990\n",
      "Model:                            OLS   Adj. R-squared (uncentered):              0.990\n",
      "Method:                 Least Squares   F-statistic:                              1426.\n",
      "Date:                Mon, 31 Jan 2022   Prob (F-statistic):                    6.77e-29\n",
      "Time:                        14:00:03   Log-Likelihood:                          57.146\n",
      "No. Observations:                  30   AIC:                                     -110.3\n",
      "Df Residuals:                      28   BIC:                                     -107.5\n",
      "Df Model:                           2                                                  \n",
      "Covariance Type:            nonrobust                                                  \n",
      "==============================================================================\n",
      "                 coef    std err          t      P>|t|      [0.025      0.975]\n",
      "------------------------------------------------------------------------------\n",
      "income         0.0023      0.000      9.906      0.000       0.002       0.003\n",
      "temp           0.0033      0.000      8.571      0.000       0.003       0.004\n",
      "==============================================================================\n",
      "Omnibus:                        3.584   Durbin-Watson:                   0.887\n",
      "Prob(Omnibus):                  0.167   Jarque-Bera (JB):                2.089\n",
      "Skew:                           0.508   Prob(JB):                        0.352\n",
      "Kurtosis:                       3.798   Cond. No.                         6.45\n",
      "==============================================================================\n",
      "\n",
      "Warnings:\n",
      "[1] Standard Errors assume that the covariance matrix of the errors is correctly specified.\n"
     ]
    }
   ],
   "source": [
    "linear_model3 = smf.ols('cons ~ -1 + income + temp', icecream_data)\n",
    "\n",
    "linear_result3 = linear_model3.fit()\n",
    "\n",
    "print(linear_result3.summary())"
   ]
  },
  {
   "cell_type": "markdown",
   "id": "4287ea4e",
   "metadata": {},
   "source": [
    "<b>Discrete Regression models</b><br>\n",
    "\n",
    "statsmodels provide the following classes to work with discrete regression problems.\n",
    "\n",
    "Logit: for Logistic Regression<br>\n",
    "MNLogit: for Multinomial Logistic Regression<br>\n",
    "Poisson: for Poisson Regression<br>\n",
    "In this course, you will see an example of performing Logistic regression and Poisson regression."
   ]
  },
  {
   "cell_type": "markdown",
   "id": "04757421",
   "metadata": {},
   "source": [
    "<b>Logistic Regression</b>\n",
    "\n",
    "\n",
    "Now, let's understand how to perform logistic regression using statsmodels with the following steps:\n",
    "\n",
    "Download the popular iris data set (containing data of 3 species) from R repository.<br>\n",
    "Subset the data of only two species.<br>\n",
    "Perform transformations, if required.<br>\n",
    "Define a patsy formula and create a model using logit.<br>\n",
    "Fit the model with supplied data.<br>\n",
    "View summary of the model."
   ]
  },
  {
   "cell_type": "code",
   "execution_count": 22,
   "id": "efee09d9",
   "metadata": {},
   "outputs": [
    {
     "name": "stdout",
     "output_type": "stream",
     "text": [
      "<class 'pandas.core.frame.DataFrame'>\n",
      "RangeIndex: 150 entries, 0 to 149\n",
      "Data columns (total 5 columns):\n",
      " #   Column        Non-Null Count  Dtype  \n",
      "---  ------        --------------  -----  \n",
      " 0   Sepal.Length  150 non-null    float64\n",
      " 1   Sepal.Width   150 non-null    float64\n",
      " 2   Petal.Length  150 non-null    float64\n",
      " 3   Petal.Width   150 non-null    float64\n",
      " 4   Species       150 non-null    object \n",
      "dtypes: float64(4), object(1)\n",
      "memory usage: 6.0+ KB\n"
     ]
    },
    {
     "data": {
      "text/plain": [
       "array(['setosa', 'versicolor', 'virginica'], dtype=object)"
      ]
     },
     "execution_count": 22,
     "metadata": {},
     "output_type": "execute_result"
    }
   ],
   "source": [
    "import statsmodels.api as sm\n",
    "import statsmodels.formula.api as smf\n",
    "import numpy as np\n",
    "import pandas as pd\n",
    "\n",
    "df = sm.datasets.get_rdataset(\"iris\").data \n",
    "df.info()\n",
    "df.Species.unique() "
   ]
  },
  {
   "cell_type": "code",
   "execution_count": 23,
   "id": "21827c2e",
   "metadata": {},
   "outputs": [
    {
     "name": "stdout",
     "output_type": "stream",
     "text": [
      "['versicolor' 'virginica']\n"
     ]
    }
   ],
   "source": [
    "df_subset = df[(df.Species == \"versicolor\") | (df.Species == \"virginica\")].copy()\n",
    "\n",
    "print(df_subset.Species.unique())"
   ]
  },
  {
   "cell_type": "code",
   "execution_count": 24,
   "id": "bee5928e",
   "metadata": {},
   "outputs": [],
   "source": [
    "df_subset.Species = df_subset.Species.map({\"versicolor\": 1, \"virginica\": 0}) \n",
    "\n",
    "df_subset.rename(columns={\"Sepal.Length\": \"Sepal_Length\", \"Sepal.Width\": \"Sepal_Width\",\t\"Petal.Length\": \"Petal_Length\", \"Petal.Width\": \"Petal_Width\"}, inplace=True) "
   ]
  },
  {
   "cell_type": "code",
   "execution_count": 25,
   "id": "02ced9a6",
   "metadata": {},
   "outputs": [],
   "source": [
    "model = smf.logit(\"Species ~ Petal_Length + Petal_Width\", data=df_subset)"
   ]
  },
  {
   "cell_type": "code",
   "execution_count": 26,
   "id": "73a26d84",
   "metadata": {},
   "outputs": [
    {
     "name": "stdout",
     "output_type": "stream",
     "text": [
      "Optimization terminated successfully.\n",
      "         Current function value: 0.102818\n",
      "         Iterations 10\n"
     ]
    }
   ],
   "source": [
    "result=model.fit()"
   ]
  },
  {
   "cell_type": "code",
   "execution_count": 27,
   "id": "e3806df4",
   "metadata": {},
   "outputs": [
    {
     "data": {
      "text/html": [
       "<table class=\"simpletable\">\n",
       "<caption>Logit Regression Results</caption>\n",
       "<tr>\n",
       "  <th>Dep. Variable:</th>        <td>Species</td>     <th>  No. Observations:  </th>  <td>   100</td>  \n",
       "</tr>\n",
       "<tr>\n",
       "  <th>Model:</th>                 <td>Logit</td>      <th>  Df Residuals:      </th>  <td>    97</td>  \n",
       "</tr>\n",
       "<tr>\n",
       "  <th>Method:</th>                 <td>MLE</td>       <th>  Df Model:          </th>  <td>     2</td>  \n",
       "</tr>\n",
       "<tr>\n",
       "  <th>Date:</th>            <td>Mon, 31 Jan 2022</td> <th>  Pseudo R-squ.:     </th>  <td>0.8517</td>  \n",
       "</tr>\n",
       "<tr>\n",
       "  <th>Time:</th>                <td>14:00:04</td>     <th>  Log-Likelihood:    </th> <td> -10.282</td> \n",
       "</tr>\n",
       "<tr>\n",
       "  <th>converged:</th>             <td>True</td>       <th>  LL-Null:           </th> <td> -69.315</td> \n",
       "</tr>\n",
       "<tr>\n",
       "  <th>Covariance Type:</th>     <td>nonrobust</td>    <th>  LLR p-value:       </th> <td>2.303e-26</td>\n",
       "</tr>\n",
       "</table>\n",
       "<table class=\"simpletable\">\n",
       "<tr>\n",
       "        <td></td>          <th>coef</th>     <th>std err</th>      <th>z</th>      <th>P>|z|</th>  <th>[0.025</th>    <th>0.975]</th>  \n",
       "</tr>\n",
       "<tr>\n",
       "  <th>Intercept</th>    <td>   45.2723</td> <td>   13.612</td> <td>    3.326</td> <td> 0.001</td> <td>   18.594</td> <td>   71.951</td>\n",
       "</tr>\n",
       "<tr>\n",
       "  <th>Petal_Length</th> <td>   -5.7545</td> <td>    2.306</td> <td>   -2.496</td> <td> 0.013</td> <td>  -10.274</td> <td>   -1.235</td>\n",
       "</tr>\n",
       "<tr>\n",
       "  <th>Petal_Width</th>  <td>  -10.4467</td> <td>    3.756</td> <td>   -2.782</td> <td> 0.005</td> <td>  -17.808</td> <td>   -3.086</td>\n",
       "</tr>\n",
       "</table><br/><br/>Possibly complete quasi-separation: A fraction 0.34 of observations can be<br/>perfectly predicted. This might indicate that there is complete<br/>quasi-separation. In this case some parameters will not be identified."
      ],
      "text/plain": [
       "<class 'statsmodels.iolib.summary.Summary'>\n",
       "\"\"\"\n",
       "                           Logit Regression Results                           \n",
       "==============================================================================\n",
       "Dep. Variable:                Species   No. Observations:                  100\n",
       "Model:                          Logit   Df Residuals:                       97\n",
       "Method:                           MLE   Df Model:                            2\n",
       "Date:                Mon, 31 Jan 2022   Pseudo R-squ.:                  0.8517\n",
       "Time:                        14:00:04   Log-Likelihood:                -10.282\n",
       "converged:                       True   LL-Null:                       -69.315\n",
       "Covariance Type:            nonrobust   LLR p-value:                 2.303e-26\n",
       "================================================================================\n",
       "                   coef    std err          z      P>|z|      [0.025      0.975]\n",
       "--------------------------------------------------------------------------------\n",
       "Intercept       45.2723     13.612      3.326      0.001      18.594      71.951\n",
       "Petal_Length    -5.7545      2.306     -2.496      0.013     -10.274      -1.235\n",
       "Petal_Width    -10.4467      3.756     -2.782      0.005     -17.808      -3.086\n",
       "================================================================================\n",
       "\n",
       "Possibly complete quasi-separation: A fraction 0.34 of observations can be\n",
       "perfectly predicted. This might indicate that there is complete\n",
       "quasi-separation. In this case some parameters will not be identified.\n",
       "\"\"\""
      ]
     },
     "execution_count": 27,
     "metadata": {},
     "output_type": "execute_result"
    }
   ],
   "source": [
    "result.summary()"
   ]
  },
  {
   "cell_type": "code",
   "execution_count": 28,
   "id": "e475e4b7",
   "metadata": {},
   "outputs": [],
   "source": [
    "import statsmodels.api as sm\n",
    "\n",
    "icecream = sm.datasets.get_rdataset(\"Insurance\",'MASS')\n",
    "\n",
    "icecream_data = icecream.data"
   ]
  },
  {
   "cell_type": "code",
   "execution_count": 29,
   "id": "9e6a0c7b",
   "metadata": {},
   "outputs": [
    {
     "name": "stdout",
     "output_type": "stream",
     "text": [
      "Optimization terminated successfully.\n",
      "         Current function value: 3.468160\n",
      "         Iterations 7\n"
     ]
    },
    {
     "data": {
      "text/html": [
       "<table class=\"simpletable\">\n",
       "<caption>Poisson Regression Results</caption>\n",
       "<tr>\n",
       "  <th>Dep. Variable:</th>        <td>Claims</td>      <th>  No. Observations:  </th>  <td>    64</td> \n",
       "</tr>\n",
       "<tr>\n",
       "  <th>Model:</th>                <td>Poisson</td>     <th>  Df Residuals:      </th>  <td>    62</td> \n",
       "</tr>\n",
       "<tr>\n",
       "  <th>Method:</th>                 <td>MLE</td>       <th>  Df Model:          </th>  <td>     1</td> \n",
       "</tr>\n",
       "<tr>\n",
       "  <th>Date:</th>            <td>Mon, 31 Jan 2022</td> <th>  Pseudo R-squ.:     </th>  <td>0.9025</td> \n",
       "</tr>\n",
       "<tr>\n",
       "  <th>Time:</th>                <td>14:00:05</td>     <th>  Log-Likelihood:    </th> <td> -221.96</td>\n",
       "</tr>\n",
       "<tr>\n",
       "  <th>converged:</th>             <td>True</td>       <th>  LL-Null:           </th> <td> -2277.0</td>\n",
       "</tr>\n",
       "<tr>\n",
       "  <th>Covariance Type:</th>     <td>nonrobust</td>    <th>  LLR p-value:       </th>  <td> 0.000</td> \n",
       "</tr>\n",
       "</table>\n",
       "<table class=\"simpletable\">\n",
       "<tr>\n",
       "         <td></td>            <th>coef</th>     <th>std err</th>      <th>z</th>      <th>P>|z|</th>  <th>[0.025</th>    <th>0.975]</th>  \n",
       "</tr>\n",
       "<tr>\n",
       "  <th>Intercept</th>       <td>   -0.9815</td> <td>    0.096</td> <td>  -10.263</td> <td> 0.000</td> <td>   -1.169</td> <td>   -0.794</td>\n",
       "</tr>\n",
       "<tr>\n",
       "  <th>np.log(Holders)</th> <td>    0.8463</td> <td>    0.014</td> <td>   58.857</td> <td> 0.000</td> <td>    0.818</td> <td>    0.874</td>\n",
       "</tr>\n",
       "</table>"
      ],
      "text/plain": [
       "<class 'statsmodels.iolib.summary.Summary'>\n",
       "\"\"\"\n",
       "                          Poisson Regression Results                          \n",
       "==============================================================================\n",
       "Dep. Variable:                 Claims   No. Observations:                   64\n",
       "Model:                        Poisson   Df Residuals:                       62\n",
       "Method:                           MLE   Df Model:                            1\n",
       "Date:                Mon, 31 Jan 2022   Pseudo R-squ.:                  0.9025\n",
       "Time:                        14:00:05   Log-Likelihood:                -221.96\n",
       "converged:                       True   LL-Null:                       -2277.0\n",
       "Covariance Type:            nonrobust   LLR p-value:                     0.000\n",
       "===================================================================================\n",
       "                      coef    std err          z      P>|z|      [0.025      0.975]\n",
       "-----------------------------------------------------------------------------------\n",
       "Intercept          -0.9815      0.096    -10.263      0.000      -1.169      -0.794\n",
       "np.log(Holders)     0.8463      0.014     58.857      0.000       0.818       0.874\n",
       "===================================================================================\n",
       "\"\"\""
      ]
     },
     "execution_count": 29,
     "metadata": {},
     "output_type": "execute_result"
    }
   ],
   "source": [
    "logistic_model=smf.poisson('Claims ~ np.log(Holders)',icecream_data)\n",
    "result=logistic_model.fit()\n",
    "result.summary()"
   ]
  },
  {
   "cell_type": "markdown",
   "id": "d7ad4cf0",
   "metadata": {},
   "source": [
    "<b>Poisson Model Example</B><br>\n",
    "Poisson Model describes a process where dependent variable refers to success count of many attempts and each attempt has a very low probability of success.\n",
    "\n",
    "Let's understand how to fit a Poisson regression model for a data set available at UCLA repository.\n",
    "\n",
    "The dataset contains details of a number of awards earned, type of program enrolled, and score obtained in final math exam by students at a high school."
   ]
  },
  {
   "cell_type": "code",
   "execution_count": 30,
   "id": "64c0b9e1",
   "metadata": {},
   "outputs": [
    {
     "name": "stdout",
     "output_type": "stream",
     "text": [
      "    id  num_awards  prog  math\n",
      "0   45           0     3    41\n",
      "1  108           0     1    41\n",
      "2   15           0     3    44\n"
     ]
    }
   ],
   "source": [
    "import pandas as pd\n",
    "\n",
    "awards_df = pd.read_csv(\"https://stats.idre.ucla.edu/stat/data/poisson_sim.csv\")\n",
    "\n",
    "print(awards_df.head(3))"
   ]
  },
  {
   "cell_type": "code",
   "execution_count": 31,
   "id": "71c0e4f1",
   "metadata": {},
   "outputs": [
    {
     "name": "stdout",
     "output_type": "stream",
     "text": [
      "Optimization terminated successfully.\n",
      "         Current function value: 0.913761\n",
      "         Iterations 6\n"
     ]
    },
    {
     "data": {
      "text/html": [
       "<table class=\"simpletable\">\n",
       "<caption>Poisson Regression Results</caption>\n",
       "<tr>\n",
       "  <th>Dep. Variable:</th>      <td>num_awards</td>    <th>  No. Observations:  </th>  <td>   200</td>  \n",
       "</tr>\n",
       "<tr>\n",
       "  <th>Model:</th>                <td>Poisson</td>     <th>  Df Residuals:      </th>  <td>   196</td>  \n",
       "</tr>\n",
       "<tr>\n",
       "  <th>Method:</th>                 <td>MLE</td>       <th>  Df Model:          </th>  <td>     3</td>  \n",
       "</tr>\n",
       "<tr>\n",
       "  <th>Date:</th>            <td>Mon, 31 Jan 2022</td> <th>  Pseudo R-squ.:     </th>  <td>0.2118</td>  \n",
       "</tr>\n",
       "<tr>\n",
       "  <th>Time:</th>                <td>14:00:07</td>     <th>  Log-Likelihood:    </th> <td> -182.75</td> \n",
       "</tr>\n",
       "<tr>\n",
       "  <th>converged:</th>             <td>True</td>       <th>  LL-Null:           </th> <td> -231.86</td> \n",
       "</tr>\n",
       "<tr>\n",
       "  <th>Covariance Type:</th>     <td>nonrobust</td>    <th>  LLR p-value:       </th> <td>3.747e-21</td>\n",
       "</tr>\n",
       "</table>\n",
       "<table class=\"simpletable\">\n",
       "<tr>\n",
       "        <td></td>          <th>coef</th>     <th>std err</th>      <th>z</th>      <th>P>|z|</th>  <th>[0.025</th>    <th>0.975]</th>  \n",
       "</tr>\n",
       "<tr>\n",
       "  <th>Intercept</th>    <td>   -5.2471</td> <td>    0.658</td> <td>   -7.969</td> <td> 0.000</td> <td>   -6.538</td> <td>   -3.957</td>\n",
       "</tr>\n",
       "<tr>\n",
       "  <th>C(prog)[T.2]</th> <td>    1.0839</td> <td>    0.358</td> <td>    3.025</td> <td> 0.002</td> <td>    0.382</td> <td>    1.786</td>\n",
       "</tr>\n",
       "<tr>\n",
       "  <th>C(prog)[T.3]</th> <td>    0.3698</td> <td>    0.441</td> <td>    0.838</td> <td> 0.402</td> <td>   -0.495</td> <td>    1.234</td>\n",
       "</tr>\n",
       "<tr>\n",
       "  <th>math</th>         <td>    0.0702</td> <td>    0.011</td> <td>    6.619</td> <td> 0.000</td> <td>    0.049</td> <td>    0.091</td>\n",
       "</tr>\n",
       "</table>"
      ],
      "text/plain": [
       "<class 'statsmodels.iolib.summary.Summary'>\n",
       "\"\"\"\n",
       "                          Poisson Regression Results                          \n",
       "==============================================================================\n",
       "Dep. Variable:             num_awards   No. Observations:                  200\n",
       "Model:                        Poisson   Df Residuals:                      196\n",
       "Method:                           MLE   Df Model:                            3\n",
       "Date:                Mon, 31 Jan 2022   Pseudo R-squ.:                  0.2118\n",
       "Time:                        14:00:07   Log-Likelihood:                -182.75\n",
       "converged:                       True   LL-Null:                       -231.86\n",
       "Covariance Type:            nonrobust   LLR p-value:                 3.747e-21\n",
       "================================================================================\n",
       "                   coef    std err          z      P>|z|      [0.025      0.975]\n",
       "--------------------------------------------------------------------------------\n",
       "Intercept       -5.2471      0.658     -7.969      0.000      -6.538      -3.957\n",
       "C(prog)[T.2]     1.0839      0.358      3.025      0.002       0.382       1.786\n",
       "C(prog)[T.3]     0.3698      0.441      0.838      0.402      -0.495       1.234\n",
       "math             0.0702      0.011      6.619      0.000       0.049       0.091\n",
       "================================================================================\n",
       "\"\"\""
      ]
     },
     "execution_count": 31,
     "metadata": {},
     "output_type": "execute_result"
    }
   ],
   "source": [
    "import statsmodels.formula.api as smf\n",
    "\n",
    "poisson_model = smf.poisson('num_awards ~ math + C(prog)', awards_df)\n",
    "result=poisson_model.fit()\n",
    "result.summary()"
   ]
  },
  {
   "cell_type": "markdown",
   "id": "9bb79a21",
   "metadata": {},
   "source": [
    "<b>Analyzing Model Summary</b><br>\n",
    "The coefficient for math variable is 0.07, which means for every one unit increase in math, the log count increases by 0.07.\n",
    "\n",
    "Having enrolled for prog=2, i.e., \"Academic\", instead of \"Generic\" program, changes the log count by 1.08.\n",
    "\n",
    "Having enrolled for prog=3, i.e., \"Vocational\", instead of \"Generic\" program, changes the log count by 0.37."
   ]
  },
  {
   "cell_type": "markdown",
   "id": "d4ba2db6",
   "metadata": {},
   "source": [
    "<b>ANOVA Example</b></br>\n",
    "Let's now understand how to perform ANOVA of a fitted regression model.\n",
    "\n",
    "For this example, let's once again consider popular Icecream dataset, used in linear regression section.\n",
    "\n",
    "Loading the Dataset"
   ]
  },
  {
   "cell_type": "code",
   "execution_count": 32,
   "id": "920dcab0",
   "metadata": {},
   "outputs": [],
   "source": [
    "import statsmodels.api as sm\n",
    "\n",
    "icecream = sm.datasets.get_rdataset(\"Icecream\", \"Ecdat\")\n",
    "icecream_data = icecream.data"
   ]
  },
  {
   "cell_type": "code",
   "execution_count": 33,
   "id": "246993e4",
   "metadata": {},
   "outputs": [],
   "source": [
    "import statsmodels.formula.api as smf\n",
    "\n",
    "model1 = smf.ols('cons ~ temp', icecream_data).fit()"
   ]
  },
  {
   "cell_type": "markdown",
   "id": "29cb7dfb",
   "metadata": {},
   "source": [
    "A linear regression model of icecream consumption with temperature is built using ols method.\n",
    "\n",
    "Now let's frame a null hypothesis: Value of B1, i.e., the coefficient of temp variable is zero."
   ]
  },
  {
   "cell_type": "markdown",
   "id": "fb951a1f",
   "metadata": {},
   "source": [
    "<b>Creating ANOVA Table</b><br>\n",
    "anova_lm method from anova module of statsmodels library can be used for performing ANOVA.\n",
    "\n"
   ]
  },
  {
   "cell_type": "code",
   "execution_count": 34,
   "id": "7ea9bcd5",
   "metadata": {},
   "outputs": [
    {
     "name": "stdout",
     "output_type": "stream",
     "text": [
      "            df    sum_sq   mean_sq         F        PR(>F)\n",
      "temp       1.0  0.075514  0.075514  42.27997  4.789215e-07\n",
      "Residual  28.0  0.050009  0.001786       NaN           NaN\n"
     ]
    }
   ],
   "source": [
    "from statsmodels.stats import anova\n",
    "print(anova.anova_lm(model1))"
   ]
  },
  {
   "cell_type": "markdown",
   "id": "d3bffeba",
   "metadata": {},
   "source": [
    "The obtained F-statistic is 42.27 and has a very low probability.\n",
    "\n",
    "Hence, the null hypothesis can be rejected. i.e., B1 is not equal to zero."
   ]
  },
  {
   "cell_type": "markdown",
   "id": "e1ffafd6",
   "metadata": {},
   "source": [
    "<b>Building New Model</b><br>\n",
    "Now let's create a new model with two independent variables and one response variable.\n",
    "\n",
    "With more that one independent variable, the null hypothesis is stated as Coefficients of all independent variables are zero. i.e B1 = 0, and B2 = 0.\n",
    "\n",
    "The alternative hypothesis will be that atleast one of the parameters Bj != 0 where j takes the values 1, 2, ..."
   ]
  },
  {
   "cell_type": "code",
   "execution_count": 35,
   "id": "69ecf1d7",
   "metadata": {},
   "outputs": [],
   "source": [
    "model2 = smf.ols('cons ~ income + temp', icecream_data).fit()"
   ]
  },
  {
   "cell_type": "markdown",
   "id": "b99ef23b",
   "metadata": {},
   "source": [
    "ANOVA table for model2 can be created as shown below\n",
    "\n",
    "The above table shows F-statistic corresponding to each independent variable.\n"
   ]
  },
  {
   "cell_type": "code",
   "execution_count": 36,
   "id": "0bc16b86",
   "metadata": {},
   "outputs": [
    {
     "name": "stdout",
     "output_type": "stream",
     "text": [
      "            df    sum_sq   mean_sq          F        PR(>F)\n",
      "income     1.0  0.000288  0.000288   0.208231  6.518069e-01\n",
      "temp       1.0  0.087836  0.087836  63.413711  1.470071e-08\n",
      "Residual  27.0  0.037399  0.001385        NaN           NaN\n"
     ]
    }
   ],
   "source": [
    "print(anova.anova_lm(model2))"
   ]
  },
  {
   "cell_type": "markdown",
   "id": "ebf7dc91",
   "metadata": {},
   "source": [
    "<b>Determining F-Value</b></br>\n",
    "F-statistic is defined as Mean square of model/Mean square of residuals.\n",
    "\n",
    "Mean square of model is sum of squares values of all variables/degrees of freedom i.e (0.000288 + 0.087836)/2 = 0.044062.\n",
    "\n",
    "Hence, the F-statistic of model is (0.044062 / 0.001385) = 31.813.\n",
    "\n",
    "The probability of obtained F-statistic is 7.96*e-08 and is computed as shown below:"
   ]
  },
  {
   "cell_type": "code",
   "execution_count": 37,
   "id": "027b7497",
   "metadata": {},
   "outputs": [
    {
     "name": "stdout",
     "output_type": "stream",
     "text": [
      "7.959504548627583e-08\n"
     ]
    }
   ],
   "source": [
    "print(stats.f.sf(31.81, 2, 27))\n",
    "#Since the p-value is low, null hypothesis is rejected."
   ]
  },
  {
   "cell_type": "markdown",
   "id": "0df15848",
   "metadata": {},
   "source": [
    "<b>Comparing Two Models</b></br>\n",
    "ANOVA can also be used to compare two nested or related models.\n",
    "\n",
    "model1 regresses consumption with temperature and model2 with temperature and income.\n",
    "\n",
    "Below code verifies if the decrease in residuals sum of squares is significant or not."
   ]
  },
  {
   "cell_type": "code",
   "execution_count": 38,
   "id": "f0c5369f",
   "metadata": {},
   "outputs": [
    {
     "name": "stdout",
     "output_type": "stream",
     "text": [
      "   df_resid       ssr  df_diff   ss_diff         F    Pr(>F)\n",
      "0      28.0  0.050009      0.0       NaN       NaN       NaN\n",
      "1      27.0  0.037399      1.0  0.012611  9.104375  0.005506\n"
     ]
    }
   ],
   "source": [
    "print(anova.anova_lm(model1, model2))"
   ]
  },
  {
   "cell_type": "markdown",
   "id": "597e711c",
   "metadata": {},
   "source": [
    "p-value i.e 0.005 from above table suggests the decrease in residual sum of squares in model2, compared to model1 is significant."
   ]
  },
  {
   "cell_type": "code",
   "execution_count": null,
   "id": "1728a133",
   "metadata": {},
   "outputs": [],
   "source": []
  }
 ],
 "metadata": {
  "kernelspec": {
   "display_name": "Python 3 (ipykernel)",
   "language": "python",
   "name": "python3"
  },
  "language_info": {
   "codemirror_mode": {
    "name": "ipython",
    "version": 3
   },
   "file_extension": ".py",
   "mimetype": "text/x-python",
   "name": "python",
   "nbconvert_exporter": "python",
   "pygments_lexer": "ipython3",
   "version": "3.7.6"
  }
 },
 "nbformat": 4,
 "nbformat_minor": 5
}
